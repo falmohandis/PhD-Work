{
 "cells": [
  {
   "cell_type": "markdown",
   "id": "130a90a1",
   "metadata": {},
   "source": [
    "### PV"
   ]
  },
  {
   "cell_type": "code",
   "execution_count": 1,
   "id": "2513bd83",
   "metadata": {},
   "outputs": [
    {
     "name": "stderr",
     "output_type": "stream",
     "text": [
      "/var/folders/zc/xq9bxs4d5wbcyydyl6_vym2r0000gn/T/ipykernel_24731/682904807.py:13: UserWarning: You are merging on int and float columns where the float values are not equal to their int representation.\n",
      "  merged_df = pd.merge(df1, df2, on=[\"Parent Folder\", \"Time Point\"], how=\"left\")\n"
     ]
    }
   ],
   "source": [
    "import pandas as pd\n",
    "\n",
    "# File paths\n",
    "file1 = \"cleanedPV_Fractional_Increase_T0-1.xlsx\"\n",
    "file2 = \"Processed_Data_Output.xlsx\"\n",
    "output_file = \"cleanedPV_with_PV_Stats.xlsx\"\n",
    "\n",
    "# Read data from both Excel files\n",
    "df1 = pd.read_excel(file1)\n",
    "df2 = pd.read_excel(file2)\n",
    "\n",
    "# Perform a left merge on 'Parent Folder' and 'Time Point'\n",
    "merged_df = pd.merge(df1, df2, on=[\"Parent Folder\", \"Time Point\"], how=\"left\")\n",
    "\n",
    "# Save the original data and the merged results into a new Excel file\n",
    "with pd.ExcelWriter(output_file, engine=\"openpyxl\") as writer:\n",
    "    df1.to_excel(writer, index=False, sheet_name=\"Original Data\")\n",
    "    merged_df.to_excel(writer, index=False, sheet_name=\"PV Stats\")\n"
   ]
  },
  {
   "cell_type": "markdown",
   "id": "e370d94b",
   "metadata": {},
   "source": [
    "### Fluid"
   ]
  },
  {
   "cell_type": "code",
   "execution_count": 2,
   "id": "c14e45b8",
   "metadata": {},
   "outputs": [
    {
     "name": "stderr",
     "output_type": "stream",
     "text": [
      "/var/folders/zc/xq9bxs4d5wbcyydyl6_vym2r0000gn/T/ipykernel_24731/3441026172.py:11: UserWarning: You are merging on int and float columns where the float values are not equal to their int representation.\n",
      "  merged_df = pd.merge(df1, df2, on=[\"Parent Folder\", \"Time Point\"], how=\"left\")\n"
     ]
    }
   ],
   "source": [
    "\n",
    "# File paths\n",
    "file1 = \"cleanedFractional_Increase_0.xlsx\"\n",
    "file2 = \"Processed_Data_Output.xlsx\"\n",
    "output_file = \"cleanedFractional_Increase_Stats.xlsx\"\n",
    "\n",
    "# Read data from both Excel files\n",
    "df1 = pd.read_excel(file1)\n",
    "df2 = pd.read_excel(file2)\n",
    "\n",
    "# Perform a left merge on 'Parent Folder' and 'Time Point'\n",
    "merged_df = pd.merge(df1, df2, on=[\"Parent Folder\", \"Time Point\"], how=\"left\")\n",
    "\n",
    "# Save the original data and the merged results into a new Excel file\n",
    "with pd.ExcelWriter(output_file, engine=\"openpyxl\") as writer:\n",
    "    df1.to_excel(writer, index=False, sheet_name=\"Original Data\")\n",
    "    merged_df.to_excel(writer, index=False, sheet_name=\"PV Stats\")\n"
   ]
  },
  {
   "cell_type": "code",
   "execution_count": 3,
   "id": "991cc005",
   "metadata": {},
   "outputs": [
    {
     "name": "stdout",
     "output_type": "stream",
     "text": [
      "Done\n"
     ]
    }
   ],
   "source": [
    "print('Done')"
   ]
  }
 ],
 "metadata": {
  "kernelspec": {
   "display_name": "Python 3 (ipykernel)",
   "language": "python",
   "name": "python3"
  },
  "language_info": {
   "codemirror_mode": {
    "name": "ipython",
    "version": 3
   },
   "file_extension": ".py",
   "mimetype": "text/x-python",
   "name": "python",
   "nbconvert_exporter": "python",
   "pygments_lexer": "ipython3",
   "version": "3.11.5"
  }
 },
 "nbformat": 4,
 "nbformat_minor": 5
}

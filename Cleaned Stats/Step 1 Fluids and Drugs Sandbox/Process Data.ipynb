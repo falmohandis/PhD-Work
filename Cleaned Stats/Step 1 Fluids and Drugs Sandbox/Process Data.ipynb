{
 "cells": [
  {
   "cell_type": "code",
   "execution_count": 1,
   "id": "d864f465",
   "metadata": {},
   "outputs": [],
   "source": [
    "import pandas as pd\n",
    "\n",
    "# Load the Excel files\n",
    "processed_data_file = \"Processed Data in Order.xlsx\"\n",
    "vaso_norepi_file = \"Vasopressin and Norepi.xlsx\"\n",
    "\n",
    "processed_data = pd.read_excel(processed_data_file, sheet_name=None)\n",
    "vaso_norepi_data = pd.read_excel(vaso_norepi_file)\n",
    "\n",
    "# Initialize an Excel writer object\n",
    "with pd.ExcelWriter(\"Processed_Data_with_Vasopressin.xlsx\") as writer:\n",
    "    # Iterate through every row of \"Vasopressin and Norepi.xlsx\" and find matching sheets\n",
    "    for index, row in vaso_norepi_data.iterrows():\n",
    "        parent_folder = row[\"Parent Folder\"]\n",
    "        if parent_folder in processed_data:\n",
    "            # Copy all data from corresponding sheet in \"Processed Data in Order.xlsx\"\n",
    "            processed_sheet = processed_data[parent_folder].copy()\n",
    "\n",
    "            # Multiply values where columns match\n",
    "            for column in processed_sheet.columns:\n",
    "                if column in vaso_norepi_data.columns:\n",
    "                    processed_sheet[column] *= row[column]\n",
    "\n",
    "            # Calculate \"Total Vasopressin\"\n",
    "            processed_sheet['Total Vasopressin'] = processed_sheet[[f'Vasopressin_{i}' for i in range(4)]].sum(axis=1)\n",
    "\n",
    "            # Calculate cumulative sum for \"Total Vasopressin\" column\n",
    "            processed_sheet['Cumulative Vasopressin'] = processed_sheet['Total Vasopressin'].cumsum()\n",
    "\n",
    "            # Write the processed data to a new sheet with the name of the \"Parent Folder\"\n",
    "            processed_sheet.to_excel(writer, sheet_name=parent_folder, index=False)\n"
   ]
  },
  {
   "cell_type": "code",
   "execution_count": 2,
   "id": "6865743e",
   "metadata": {},
   "outputs": [
    {
     "name": "stdout",
     "output_type": "stream",
     "text": [
      "Done\n"
     ]
    }
   ],
   "source": [
    "print('Done')"
   ]
  }
 ],
 "metadata": {
  "kernelspec": {
   "display_name": "Python 3 (ipykernel)",
   "language": "python",
   "name": "python3"
  },
  "language_info": {
   "codemirror_mode": {
    "name": "ipython",
    "version": 3
   },
   "file_extension": ".py",
   "mimetype": "text/x-python",
   "name": "python",
   "nbconvert_exporter": "python",
   "pygments_lexer": "ipython3",
   "version": "3.11.5"
  }
 },
 "nbformat": 4,
 "nbformat_minor": 5
}
